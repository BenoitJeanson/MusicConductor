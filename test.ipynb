import sys
sys.path.append("D:/Users/jeansonben/Documents/Perso/Spi/tabGen")